{
 "cells": [
  {
   "cell_type": "code",
   "execution_count": 28,
   "metadata": {},
   "outputs": [],
   "source": [
    "from PIL import Image\n",
    "from skimage import data, io, filters\n",
    "import numpy as np\n",
    "from scipy import ndimage\n",
    "from matplotlib import pyplot as plt\n",
    "from sklearn import manifold, datasets\n",
    "import os\n",
    "from torchvision import transforms\n",
    "from skimage.transform import resize\n",
    "import cv2\n",
    "#from tifffile import imread, imwrite"
   ]
  },
  {
   "cell_type": "code",
   "execution_count": 29,
   "metadata": {},
   "outputs": [
    {
     "name": "stdout",
     "output_type": "stream",
     "text": [
      "(512, 512, 3)\n",
      "(512, 512, 3)\n",
      "(512, 512, 3)\n",
      "(512, 512, 3)\n",
      "(512, 512, 3)\n",
      "(512, 512, 3)\n",
      "(512, 512, 3)\n",
      "(512, 512, 3)\n",
      "(512, 512, 3)\n",
      "(512, 512, 3)\n",
      "(512, 512, 3)\n",
      "(512, 512, 3)\n",
      "(512, 512, 3)\n",
      "(512, 512, 3)\n",
      "(512, 512, 3)\n",
      "(512, 512, 3)\n",
      "(512, 512, 3)\n",
      "(512, 512, 3)\n",
      "(512, 512, 3)\n",
      "(512, 512, 3)\n"
     ]
    }
   ],
   "source": [
    "training_folder = 'data/training/training/images'\n",
    "resize_folder = 'data/training/images_resized'\n",
    "i = 0\n",
    "\n",
    "for filename in os.listdir(training_folder):\n",
    "    img = cv2.imread(os.path.join(training_folder, filename))\n",
    "    new = cv2.resize(img, (512, 512))\n",
    "    print(new.shape)\n",
    "    path = resize_folder + '/' + str(i) + '.tif'\n",
    "    cv2.imwrite(path, new)\n",
    "    i = i + 1\n"
   ]
  },
  {
   "cell_type": "code",
   "execution_count": 30,
   "metadata": {},
   "outputs": [
    {
     "name": "stdout",
     "output_type": "stream",
     "text": [
      "(512, 512)\n",
      "(512, 512)\n",
      "(512, 512)\n",
      "(512, 512)\n",
      "(512, 512)\n",
      "(512, 512)\n",
      "(512, 512)\n",
      "(512, 512)\n",
      "(512, 512)\n",
      "(512, 512)\n",
      "(512, 512)\n",
      "(512, 512)\n",
      "(512, 512)\n",
      "(512, 512)\n",
      "(512, 512)\n",
      "(512, 512)\n",
      "(512, 512)\n",
      "(512, 512)\n",
      "(512, 512)\n",
      "(512, 512)\n"
     ]
    }
   ],
   "source": [
    "io.use_plugin('pil')\n",
    "training_folder = 'data/training/training/1st_manual'\n",
    "resize_folder = 'data/training/labels_resized'\n",
    "i = 0\n",
    "\n",
    "for filename in os.listdir(training_folder):\n",
    "    #print(filename)\n",
    "    img = io.imread(os.path.join(training_folder, filename))\n",
    "    new = cv2.resize(img, (512, 512))\n",
    "    print(new.shape)\n",
    "    file = filename[:-4]\n",
    "    path = resize_folder + '/' + str(i) + '.tif'\n",
    "    cv2.imwrite(path, new)\n",
    "    i = i + 1\n"
   ]
  },
  {
   "cell_type": "code",
   "execution_count": 31,
   "metadata": {},
   "outputs": [
    {
     "name": "stdout",
     "output_type": "stream",
     "text": [
      "(512, 512, 3)\n",
      "(512, 512, 3)\n",
      "(512, 512, 3)\n",
      "(512, 512, 3)\n",
      "(512, 512, 3)\n",
      "(512, 512, 3)\n",
      "(512, 512, 3)\n",
      "(512, 512, 3)\n",
      "(512, 512, 3)\n",
      "(512, 512, 3)\n",
      "(512, 512, 3)\n",
      "(512, 512, 3)\n",
      "(512, 512, 3)\n",
      "(512, 512, 3)\n",
      "(512, 512, 3)\n",
      "(512, 512, 3)\n",
      "(512, 512, 3)\n",
      "(512, 512, 3)\n",
      "(512, 512, 3)\n",
      "(512, 512, 3)\n"
     ]
    }
   ],
   "source": [
    "testing_folder = 'data/test/test/images'\n",
    "resize_folder = 'data/test/images_resized'\n",
    "i = 0\n",
    "\n",
    "for filename in os.listdir(testing_folder):\n",
    "    img = cv2.imread(os.path.join(testing_folder, filename))\n",
    "    new = cv2.resize(img, (512, 512))\n",
    "    print(new.shape)\n",
    "    path = resize_folder + '/' + str(i) + '.tif'\n",
    "    cv2.imwrite(path, new)\n",
    "    i = i+1"
   ]
  },
  {
   "cell_type": "code",
   "execution_count": 32,
   "metadata": {},
   "outputs": [
    {
     "name": "stdout",
     "output_type": "stream",
     "text": [
      "(512, 512)\n",
      "(512, 512)\n",
      "(512, 512)\n",
      "(512, 512)\n",
      "(512, 512)\n",
      "(512, 512)\n",
      "(512, 512)\n",
      "(512, 512)\n",
      "(512, 512)\n",
      "(512, 512)\n",
      "(512, 512)\n",
      "(512, 512)\n",
      "(512, 512)\n",
      "(512, 512)\n",
      "(512, 512)\n",
      "(512, 512)\n",
      "(512, 512)\n",
      "(512, 512)\n",
      "(512, 512)\n",
      "(512, 512)\n"
     ]
    }
   ],
   "source": [
    "io.use_plugin('pil')\n",
    "testing_folder = 'data/test/test/1st_manual'\n",
    "resize_folder = 'data/test/labels_resized'\n",
    "i = 0\n",
    "\n",
    "for filename in os.listdir(testing_folder):\n",
    "    img = io.imread(os.path.join(testing_folder, filename))\n",
    "    new = cv2.resize(img, (512, 512))\n",
    "    print(new.shape)\n",
    "    file = filename[:-4]\n",
    "    path = resize_folder + '/' + str(i) + '.tif'\n",
    "    cv2.imwrite(path, new)\n",
    "    i = i+1"
   ]
  },
  {
   "cell_type": "code",
   "execution_count": null,
   "metadata": {},
   "outputs": [],
   "source": []
  }
 ],
 "metadata": {
  "kernelspec": {
   "display_name": "Python 3",
   "language": "python",
   "name": "python3"
  },
  "language_info": {
   "codemirror_mode": {
    "name": "ipython",
    "version": 3
   },
   "file_extension": ".py",
   "mimetype": "text/x-python",
   "name": "python",
   "nbconvert_exporter": "python",
   "pygments_lexer": "ipython3",
   "version": "3.6.12"
  }
 },
 "nbformat": 4,
 "nbformat_minor": 4
}

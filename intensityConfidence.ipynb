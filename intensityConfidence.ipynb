{
 "cells": [
  {
   "cell_type": "code",
   "execution_count": null,
   "metadata": {
    "id": "g_b1DLABq7pS"
   },
   "outputs": [],
   "source": [
    "import PIL\n",
    "from PIL import Image\n",
    "import requests\n",
    "from io import BytesIO\n",
    "from PIL import ImageFilter\n",
    "from PIL import ImageEnhance\n",
    "from IPython.display import display\n",
    "import numpy as np\n",
    "from tqdm import tqdm\n",
    "from glob import glob\n",
    "import csv\n",
    "import os"
   ]
  },
  {
   "cell_type": "code",
   "execution_count": null,
   "metadata": {
    "id": "ymNA2NGhrOW7"
   },
   "outputs": [],
   "source": [
    "train_x = sorted(glob(\"./data/training/images/*\"))\n",
    "train_y = sorted(glob(\"./data/training/1st_manual/*\"))\n",
    "\n",
    "test_x = sorted(glob(\"./data/test/images/*\"))\n",
    "test_y = sorted(glob(\"./data/test/1st_manual/*\"))"
   ]
  },
  {
   "cell_type": "code",
   "execution_count": null,
   "metadata": {
    "id": "7hfrP8ezt6e3"
   },
   "outputs": [],
   "source": [
    "def getImageIntensity(img, mask):\n",
    "  intensArr = []\n",
    "  diffConfArr = []\n",
    "\n",
    "  for x in range(mask.width):\n",
    "    for y in range(mask.height):\n",
    "      if mask.getpixel((x,y)) == 255:\n",
    "        pixConf = 1 - (img.getpixel((x,y)) / 255)\n",
    "        neighbourConf = 0\n",
    "        #get surronding pixels\n",
    "        neighbours = []\n",
    "        value = mask.getpixel((x-1,y-1)) if x-1 in range(mask.width) and y-1 in range(mask.height) else -1\n",
    "        neighbours.append(value) # upper left\n",
    "        value = mask.getpixel((x-1,y)) if x-1 in range(mask.width) else -1\n",
    "        neighbours.append(value) # upper middle\n",
    "        value = mask.getpixel((x-1,y+1)) if x-1 in range(mask.width) and y+1 in range(mask.height) else -1\n",
    "        neighbours.append(value) # upper right\n",
    "        value = mask.getpixel((x,y-1)) if y-1 in range(mask.height) else -1\n",
    "        neighbours.append(value) # left\n",
    "        value = mask.getpixel((x,y+1)) if y+1 in range(mask.height) else -1\n",
    "        neighbours.append(value) # right\n",
    "        value = mask.getpixel((x+1,y-1)) if x+1 in range(mask.width) and y-1 in range(mask.height) else -1\n",
    "        neighbours.append(value) # lower left\n",
    "        value = mask.getpixel((x+1,y)) if x+1 in range(mask.width) else -1\n",
    "        neighbours.append(value) # lower middle\n",
    "        value = mask.getpixel((x+1,y+1)) if x+1 in range(mask.width) and y+1 in range(mask.height) else -1\n",
    "        neighbours.append(value) # lower right\n",
    "        if 0 in neighbours:\n",
    "          coords = [(x-1,y-1),(x-1,y),(x-1,y+1),(x,y-1),(x,y+1),(x+1,y-1),(x+1,y),(x+1,y+1)]\n",
    "          intens = []\n",
    "          for idx, n in enumerate(neighbours):\n",
    "            if n == 0:\n",
    "              intens.append(img.getpixel(coords[idx]))\n",
    "          neighbourAvg = sum(intens) / len(intens)\n",
    "          neighbourConf = 1 - (neighbourAvg / 255)\n",
    "          diffConf = pixConf - neighbourConf\n",
    "\n",
    "          diffConfArr.append(diffConf)\n",
    "          intensArr.append(neighbourAvg)\n",
    "\n",
    "  avgIntens = sum(intensArr)/len(intensArr)\n",
    "  avgDiffConf = sum(diffConfArr)/len(diffConfArr)\n",
    "\n",
    "  print(avgIntens)\n",
    "  print(avgDiffConf)\n",
    "  return [avgIntens, avgDiffConf]\n"
   ]
  },
  {
   "cell_type": "code",
   "execution_count": null,
   "metadata": {
    "colab": {
     "base_uri": "https://localhost:8080/"
    },
    "executionInfo": {
     "elapsed": 50692,
     "status": "ok",
     "timestamp": 1629054872576,
     "user": {
      "displayName": "Matt Davies",
      "photoUrl": "",
      "userId": "08586740024362103035"
     },
     "user_tz": -60
    },
    "id": "7ASoK-h4t6xn",
    "outputId": "b2fe99cc-28c8-4524-cc22-0fe8fd1e0bf4"
   },
   "outputs": [
    {
     "name": "stdout",
     "output_type": "stream",
     "text": [
      "140.05457303746945\n",
      "0.0244929663812657\n",
      "129.77982557994306\n",
      "0.020399821875962343\n",
      "146.42601619900196\n",
      "0.019366239737952817\n",
      "147.90239202756896\n",
      "0.018741492004858664\n",
      "111.54637999111094\n",
      "0.013209798064367473\n",
      "81.12069981781168\n",
      "0.014528562112517115\n",
      "142.30439109072356\n",
      "0.022890644208052705\n",
      "127.96307524920243\n",
      "0.023325071633318383\n",
      "98.37014404019008\n",
      "0.018400913016409656\n",
      "77.35924922147726\n",
      "0.013439618529583608\n",
      "139.05531797791565\n",
      "0.0240742790836141\n",
      "135.5934891320272\n",
      "0.019007506678210166\n",
      "141.65181144707057\n",
      "0.02281492920118044\n",
      "126.71611141232727\n",
      "0.024850762961302675\n",
      "117.53695308202016\n",
      "0.02798620699003669\n",
      "106.0469821352612\n",
      "0.023141016338478145\n",
      "112.60094352702497\n",
      "0.032476419693891964\n",
      "135.6769041682724\n",
      "0.02294519673572711\n",
      "111.11336835637472\n",
      "0.018457485015510672\n",
      "85.87926677037127\n",
      "0.02045181145954184\n"
     ]
    }
   ],
   "source": [
    "with open(\"./data/training/trainingIntensity.csv\", 'w', newline='') as f:\n",
    "  writer = csv.writer(f)\n",
    "  header = ['image', 'avgIntens', 'avgConf']\n",
    "  writer.writerow(header)\n",
    "\n",
    "  for i in range(len(train_x)):\n",
    "    entry = [os.path.basename(train_x[i])]\n",
    "    x = Image.open(train_x[i]).convert('L')\n",
    "    y = Image.open(train_y[i])\n",
    "    res = getImageIntensity(x, y)\n",
    "    row = entry + res\n",
    "    writer.writerow(row)"
   ]
  },
  {
   "cell_type": "code",
   "execution_count": null,
   "metadata": {
    "colab": {
     "base_uri": "https://localhost:8080/"
    },
    "executionInfo": {
     "elapsed": 50517,
     "status": "ok",
     "timestamp": 1629055008648,
     "user": {
      "displayName": "Matt Davies",
      "photoUrl": "",
      "userId": "08586740024362103035"
     },
     "user_tz": -60
    },
    "id": "jNWWcMfzt66q",
    "outputId": "f99ac999-78eb-4f64-a0bc-52aed9751d5d"
   },
   "outputs": [
    {
     "name": "stdout",
     "output_type": "stream",
     "text": [
      "119.44593080523481\n",
      "0.02610548424153765\n",
      "143.90837573983885\n",
      "0.023594972514817587\n",
      "90.39857859987946\n",
      "0.015261903309913229\n",
      "124.05636581617154\n",
      "0.02261888841607187\n",
      "111.11155963370736\n",
      "0.01765826359586382\n",
      "112.09346398925598\n",
      "0.01684464384813823\n",
      "127.38476294116725\n",
      "0.020303592506118222\n",
      "120.39237302401824\n",
      "0.017042084100907746\n",
      "138.07804403481796\n",
      "0.01615678242623193\n",
      "101.74697282040322\n",
      "0.01959946640110176\n",
      "136.91926224351502\n",
      "0.02580047045918559\n",
      "125.63925239374798\n",
      "0.020841259178696878\n",
      "129.06510478393201\n",
      "0.019831805549745868\n",
      "127.01186397562455\n",
      "0.021733356985307622\n",
      "99.86486252843315\n",
      "0.026178576473041896\n",
      "135.96286335681813\n",
      "0.025598173511072114\n",
      "143.94570365093603\n",
      "0.02064184653933377\n",
      "138.1835062927798\n",
      "0.023005641205477687\n",
      "91.60690103292657\n",
      "0.02902599316938918\n",
      "112.77255722547226\n",
      "0.020664897537962593\n"
     ]
    }
   ],
   "source": [
    "with open(\"./data/test/testIntensity.csv\", 'w', newline='') as f:\n",
    "  writer = csv.writer(f)\n",
    "  header = ['image', 'avgIntens', 'avgConf']\n",
    "  writer.writerow(header)\n",
    "\n",
    "  for i in range(len(test_x)):\n",
    "    entry = [os.path.basename(test_x[i])]\n",
    "    x = Image.open(test_x[i]).convert('L')\n",
    "    y = Image.open(test_y[i])\n",
    "    res = getImageIntensity(x, y)\n",
    "    row = entry + res\n",
    "    writer.writerow(row)"
   ]
  }
 ],
 "metadata": {
  "colab": {
   "authorship_tag": "ABX9TyOizhSaPVy3mNrr8vzNjm79",
   "collapsed_sections": [],
   "name": "intensityConfidence.ipynb",
   "provenance": []
  },
  "kernelspec": {
   "display_name": "Python 3",
   "language": "python",
   "name": "python3"
  },
  "language_info": {
   "codemirror_mode": {
    "name": "ipython",
    "version": 3
   },
   "file_extension": ".py",
   "mimetype": "text/x-python",
   "name": "python",
   "nbconvert_exporter": "python",
   "pygments_lexer": "ipython3",
   "version": "3.6.12"
  }
 },
 "nbformat": 4,
 "nbformat_minor": 1
}
